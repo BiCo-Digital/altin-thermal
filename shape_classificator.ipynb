{
 "cells": [
  {
   "cell_type": "code",
   "execution_count": 76,
   "metadata": {
    "collapsed": true,
    "ExecuteTime": {
     "end_time": "2023-07-15T16:19:33.633955Z",
     "start_time": "2023-07-15T16:19:33.632523Z"
    }
   },
   "outputs": [],
   "source": [
    "import cv2\n",
    "import numpy as np\n",
    "from PIL import Image\n",
    "import IPython\n",
    "import matplotlib.pyplot as plt\n",
    "\n",
    "## write function that shows image in jupyter notebook\n",
    "def display(img):\n",
    "    pil_image = Image.fromarray(img)\n",
    "    SCALE = 2\n",
    "    width, height = pil_image.size\n",
    "    pil_image = pil_image.resize((width*SCALE, height*SCALE), Image.NEAREST)\n",
    "    IPython.display.display(pil_image)\n"
   ]
  },
  {
   "cell_type": "code",
   "execution_count": 77,
   "outputs": [
    {
     "name": "stdout",
     "output_type": "stream",
     "text": [
      "256 192 3\n"
     ]
    },
    {
     "name": "stderr",
     "output_type": "stream",
     "text": [
      "/var/folders/py/4vk30n9d0w97lw28czjywqwh0000gn/T/ipykernel_20065/3992334537.py:12: DeprecationWarning: NEAREST is deprecated and will be removed in Pillow 10 (2023-07-01). Use Resampling.NEAREST or Dither.NONE instead.\n",
      "  pil_image = pil_image.resize((width*SCALE, height*SCALE), Image.NEAREST)\n"
     ]
    },
    {
     "data": {
      "text/plain": "<PIL.Image.Image image mode=L size=128x512>",
      "image/png": "[encoded data removed]"
     },
     "metadata": {},
     "output_type": "display_data"
    }
   ],
   "source": [
    "# Load video capture from file\n",
    "cap = cv2.VideoCapture('thermal.mp4')\n",
    "\n",
    "# Grab first frame to get resolution\n",
    "ret, frame = cap.read()\n",
    "height, width, channels = frame.shape\n",
    "print (height, width, channels)\n",
    "\n",
    "# assure grayscale\n",
    "frame = cv2.cvtColor(frame, cv2.COLOR_BGR2GRAY)\n",
    "\n",
    "\n",
    "\n",
    "# crop only center third of the image as a stripe\n",
    "frame = frame[:, width//3:2*width//3]\n",
    "\n",
    "display(frame)\n"
   ],
   "metadata": {
    "collapsed": false,
    "ExecuteTime": {
     "end_time": "2023-07-15T16:19:33.644211Z",
     "start_time": "2023-07-15T16:19:33.635991Z"
    }
   }
  },
  {
   "cell_type": "code",
   "execution_count": 80,
   "outputs": [
    {
     "name": "stderr",
     "output_type": "stream",
     "text": [
      "/var/folders/py/4vk30n9d0w97lw28czjywqwh0000gn/T/ipykernel_20065/3992334537.py:12: DeprecationWarning: NEAREST is deprecated and will be removed in Pillow 10 (2023-07-01). Use Resampling.NEAREST or Dither.NONE instead.\n",
      "  pil_image = pil_image.resize((width*SCALE, height*SCALE), Image.NEAREST)\n"
     ]
    },
    {
     "data": {
      "text/plain": "<PIL.Image.Image image mode=L size=128x512>",
      "image/png": "[encoded data removed]"
     },
     "metadata": {},
     "output_type": "display_data"
    },
    {
     "data": {
      "text/plain": "<PIL.Image.Image image mode=L size=128x512>",
      "image/png": "[encoded data removed]"
     },
     "metadata": {},
     "output_type": "display_data"
    }
   ],
   "source": [
    "\n",
    "# segment using kmeans into 3 clusters\n",
    "# https://docs.opencv.org/3.0-beta/doc/py_tutorials/py_ml/py_kmeans/py_kmeans_opencv/py_kmeans_opencv.html\n",
    "Z = frame.reshape((-1,1))\n",
    "Z = np.float32(Z)\n",
    "criteria = (cv2.TERM_CRITERIA_EPS + cv2.TERM_CRITERIA_MAX_ITER, 20, 1.0)\n",
    "K = 3\n",
    "ret,label,center=cv2.kmeans(Z,K,None,criteria,10,cv2.KMEANS_RANDOM_CENTERS)\n",
    "\n",
    "# Now convert back into uint8, and make original image\n",
    "center = np.uint8(center)\n",
    "res = center[label.flatten()]\n",
    "res = res.reshape((frame.shape))\n",
    "\n",
    "display(res)\n",
    "\n",
    "# dilate erosion to remove noise\n",
    "kernel = np.ones((5,5),np.uint8)\n",
    "res = cv2.dila\n",
    "te(res,kernel,iterations = 1)\n",
    "res = cv2.erode(res,kernel,iterations = 1)\n",
    "\n",
    "display(res)\n"
   ],
   "metadata": {
    "collapsed": false,
    "ExecuteTime": {
     "end_time": "2023-07-15T16:19:56.301862Z",
     "start_time": "2023-07-15T16:19:56.278865Z"
    }
   }
  }
 ],
 "metadata": {
  "kernelspec": {
   "display_name": "Python 3",
   "language": "python",
   "name": "python3"
  },
  "language_info": {
   "codemirror_mode": {
    "name": "ipython",
    "version": 2
   },
   "file_extension": ".py",
   "mimetype": "text/x-python",
   "name": "python",
   "nbconvert_exporter": "python",
   "pygments_lexer": "ipython2",
   "version": "2.7.6"
  }
 },
 "nbformat": 4,
 "nbformat_minor": 0
}
